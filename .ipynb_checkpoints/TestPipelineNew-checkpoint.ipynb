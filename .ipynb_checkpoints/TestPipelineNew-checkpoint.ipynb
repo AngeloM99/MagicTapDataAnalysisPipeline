{
 "cells": [
  {
   "cell_type": "code",
   "execution_count": 3,
   "id": "040fbceb-fe2f-4d0d-8fca-a061a15dfb5f",
   "metadata": {},
   "outputs": [],
   "source": [
    "#!/usr/bin/python3\n",
    "'''*.csv Data Format: ['Case', 'RunTime', 'Object', 'EnterTime', 'Velocity', 'Acceleration']'''\n",
    "import csv, os, numpy as np, pandas as pd, seaborn as sns, matplotlib.pyplot as plt"
   ]
  },
  {
   "cell_type": "code",
   "execution_count": 11,
   "id": "dbe3e1dd-b084-408c-9542-0ef980104663",
   "metadata": {},
   "outputs": [],
   "source": [
    "import scipy\n",
    "import shutil"
   ]
  },
  {
   "cell_type": "code",
   "execution_count": 30,
   "id": "b5b2dea3-7b2e-4cdd-a4f4-e7221d387c98",
   "metadata": {},
   "outputs": [
    {
     "name": "stdout",
     "output_type": "stream",
     "text": [
      "C:\\Users\\angel\\Desktop\\S1DA\\Four\\6\\backtrace\\20221105-07-20-51-FastTapIn.csv\n",
      "C:\\Users\\angel\\Desktop\\S1DA\\Four\\analysis\\20221105-07-20-51-AccelerationIn.csv\n",
      "C:\\Users\\angel\\Desktop\\S1DA\\Four\\6\\backtrace\\20221105-07-20-51-FastTapIn.csv\n",
      "C:\\Users\\angel\\Desktop\\S1DA\\Four\\analysis\\20221105-07-20-51-AccelerationIn.csv\n",
      "C:\\Users\\angel\\Desktop\\S1DA\\Four\\7\\backtrace\\20221105-07-27-57-FastTapIn.csv\n",
      "C:\\Users\\angel\\Desktop\\S1DA\\Four\\analysis\\20221105-07-27-57-AccelerationIn.csv\n",
      "C:\\Users\\angel\\Desktop\\S1DA\\Four\\7\\backtrace\\20221105-07-27-57-FastTapIn.csv\n",
      "C:\\Users\\angel\\Desktop\\S1DA\\Four\\analysis\\20221105-07-27-57-AccelerationIn.csv\n",
      "C:\\Users\\angel\\Desktop\\S1DA\\Four\\8\\backtrace\\20221105-07-30-57-FastTapIn.csv\n",
      "C:\\Users\\angel\\Desktop\\S1DA\\Four\\analysis\\20221105-07-30-57-AccelerationIn.csv\n",
      "C:\\Users\\angel\\Desktop\\S1DA\\Four\\8\\backtrace\\20221105-07-30-57-FastTapIn.csv\n",
      "C:\\Users\\angel\\Desktop\\S1DA\\Four\\analysis\\20221105-07-30-57-AccelerationIn.csv\n",
      "C:\\Users\\angel\\Desktop\\S1DA\\Four\\9\\backtrace\\20221105-07-34-23-FastTapIn.csv\n",
      "C:\\Users\\angel\\Desktop\\S1DA\\Four\\analysis\\20221105-07-34-23-AccelerationIn.csv\n",
      "C:\\Users\\angel\\Desktop\\S1DA\\Four\\9\\backtrace\\20221105-07-34-23-FastTapIn.csv\n",
      "C:\\Users\\angel\\Desktop\\S1DA\\Four\\analysis\\20221105-07-34-23-AccelerationIn.csv\n"
     ]
    },
    {
     "ename": "FileNotFoundError",
     "evalue": "[WinError 3] 系统找不到指定的路径。: 'C:\\\\Users\\\\angel\\\\Desktop\\\\S1DA\\\\Four\\\\analysis\\\\backtrace'",
     "output_type": "error",
     "traceback": [
      "\u001b[1;31m---------------------------------------------------------------------------\u001b[0m",
      "\u001b[1;31mFileNotFoundError\u001b[0m                         Traceback (most recent call last)",
      "Cell \u001b[1;32mIn[30], line 9\u001b[0m\n\u001b[0;32m      7\u001b[0m \u001b[38;5;28;01mfor\u001b[39;00m dirs \u001b[38;5;129;01min\u001b[39;00m os\u001b[38;5;241m.\u001b[39mlistdir(new_path):\n\u001b[0;32m      8\u001b[0m     backtrace_path \u001b[38;5;241m=\u001b[39m new_path \u001b[38;5;241m+\u001b[39m \u001b[38;5;124m\"\u001b[39m\u001b[38;5;130;01m\\\\\u001b[39;00m\u001b[38;5;124m\"\u001b[39m \u001b[38;5;241m+\u001b[39m \u001b[38;5;124m\"\u001b[39m\u001b[38;5;124mbacktrace\u001b[39m\u001b[38;5;124m\"\u001b[39m\n\u001b[1;32m----> 9\u001b[0m     \u001b[38;5;28;01mfor\u001b[39;00m i \u001b[38;5;129;01min\u001b[39;00m \u001b[43mos\u001b[49m\u001b[38;5;241;43m.\u001b[39;49m\u001b[43mlistdir\u001b[49m\u001b[43m(\u001b[49m\u001b[43mbacktrace_path\u001b[49m\u001b[43m)\u001b[49m:\n\u001b[0;32m     10\u001b[0m         old_item_name \u001b[38;5;241m=\u001b[39m backtrace_path \u001b[38;5;241m+\u001b[39m \u001b[38;5;124m\"\u001b[39m\u001b[38;5;130;01m\\\\\u001b[39;00m\u001b[38;5;124m\"\u001b[39m \u001b[38;5;241m+\u001b[39m i\n\u001b[0;32m     11\u001b[0m         new_item_name \u001b[38;5;241m=\u001b[39m i\u001b[38;5;241m.\u001b[39msplit(\u001b[38;5;124m\"\u001b[39m\u001b[38;5;124mFastTapIn.csv\u001b[39m\u001b[38;5;124m\"\u001b[39m)[\u001b[38;5;241m0\u001b[39m] \u001b[38;5;241m+\u001b[39m (\u001b[38;5;124m\"\u001b[39m\u001b[38;5;124mAccelerationIn.csv\u001b[39m\u001b[38;5;124m\"\u001b[39m)\n",
      "\u001b[1;31mFileNotFoundError\u001b[0m: [WinError 3] 系统找不到指定的路径。: 'C:\\\\Users\\\\angel\\\\Desktop\\\\S1DA\\\\Four\\\\analysis\\\\backtrace'"
     ]
    }
   ],
   "source": [
    "import os\n",
    "path = r\"C:\\Users\\angel\\Desktop\\S1DA\\Four\"\n",
    "dest_path = r\"C:\\Users\\angel\\Desktop\\S1DA\\Four\\analysis\"\n",
    "\n",
    "for item in os.listdir(path):\n",
    "    new_path = path + \"\\\\\" + item\n",
    "    for dirs in os.listdir(new_path):\n",
    "        backtrace_path = new_path + \"\\\\\" + \"backtrace\"\n",
    "        for i in os.listdir(backtrace_path):\n",
    "            old_item_name = backtrace_path + \"\\\\\" + i\n",
    "            new_item_name = i.split(\"FastTapIn.csv\")[0] + (\"AccelerationIn.csv\")\n",
    "            new_item_path = dest_path + \"\\\\\" + new_item_name\n",
    "            print(old_item_name)\n",
    "            print(new_item_path)\n",
    "            shutil.copy(old_item_name, new_item_path)"
   ]
  },
  {
   "cell_type": "code",
   "execution_count": 5,
   "id": "6f3da631-ac9b-40c1-8c27-46f96043a351",
   "metadata": {},
   "outputs": [],
   "source": [
    "path = r\"C:\\Users\\angel\\Desktop\\S1DA\\Separated - Backtrace - 230422 - study1\\Cancel\"\n",
    "res = []\n",
    "for item in os.listdir(path):\n",
    "    new_path = path +\"\\\\\"+item\n",
    "    #print(new_path)\n",
    "    for item in os.listdir(new_path):\n",
    "        item_path = new_path + \"\\\\\" + item\n",
    "        new_item_name = str(item.split(\"AccelerationIn.csv\")[0] + \"VelocityIn.csv\")\n",
    "        new_item_path = new_path + \"\\\\\" + new_item_name\n",
    "        shutil.copy(item_path, new_item_path)"
   ]
  },
  {
   "cell_type": "code",
   "execution_count": 25,
   "id": "64b005b4-8369-4ce1-9953-a29bd2390ba6",
   "metadata": {
    "jupyter": {
     "source_hidden": true
    },
    "tags": []
   },
   "outputs": [
    {
     "name": "stdout",
     "output_type": "stream",
     "text": [
      "20221105-06-53-56-VelocityIn.csv\n"
     ]
    }
   ],
   "source": [
    "filename=\"20221105-06-53-56-AccelerationIn.csv\"\n",
    "\n",
    "new_filename = str(filename.split(\"AccelerationIn.csv\")[0]) + \"VelocityIn.csv\"\n",
    "print(new_filename)"
   ]
  },
  {
   "cell_type": "code",
   "execution_count": 7,
   "id": "5cbe181f-2aed-4fc6-b6ac-97a2c2ed6a2f",
   "metadata": {},
   "outputs": [],
   "source": [
    "path = r\"C:\\Users\\angel\\Desktop\\S1DA\\Separated - Backtrace - 230422 - study1\\Execute_only\"\n",
    "for item in os.listdir(path):\n",
    "    old_path = path + \"\\\\\" + item\n",
    "    new_item_name = \"230426 - \" + item\n",
    "    \n",
    "    new_path_withName = path + \"\\\\\" + new_item_name\n",
    "    os.rename(old_path, new_path_withName)"
   ]
  },
  {
   "cell_type": "markdown",
   "id": "d1043005-0139-4950-be03-ff45278f5f29",
   "metadata": {},
   "source": [
    "Acceleration for Button Number 4's condition B: -2.4130181073276704\n",
    "Acceleration distance: -0.8014845246792235\n",
    "The Acceleration for the seven models:\n",
    "-0.008564533289999954\n",
    "-0.8100490579692234\n",
    "-1.611533582648447\n",
    "-2.4130181073276704\n",
    "-3.214502632006894\n",
    "-4.015987156686117\n",
    "-4.81747168136534"
   ]
  },
  {
   "cell_type": "code",
   "execution_count": 31,
   "id": "0dde436c-3567-4a17-a0a5-c8163462e819",
   "metadata": {},
   "outputs": [],
   "source": [
    "path = r\"C:\\Users\\angel\\Desktop\\S1DA\\Four\\analysis\"\n",
    "for i in range(1,5):\n",
    "    folder_name = f\"230427 - {i} - Execute\"\n",
    "    new_folder_path = path + \"\\\\\" + folder_name\n",
    "    os.makedirs(new_folder_path)"
   ]
  },
  {
   "cell_type": "code",
   "execution_count": 32,
   "id": "f0e52b36-dba2-453f-8dd0-705a51205c27",
   "metadata": {},
   "outputs": [
    {
     "name": "stdout",
     "output_type": "stream",
     "text": [
      "C:\\Users\\angel\\Desktop\\S1DA\\Four\\analysis\\230427 - 1 - Execute\n",
      "20221105-07-20-51-AccelerationIn.csv\n",
      "C:\\Users\\angel\\Desktop\\S1DA\\Four\\analysis\\230427 - 2 - Execute\n",
      "20221105-07-27-57-AccelerationIn.csv\n",
      "C:\\Users\\angel\\Desktop\\S1DA\\Four\\analysis\\230427 - 3 - Execute\n",
      "20221105-07-30-57-AccelerationIn.csv\n",
      "C:\\Users\\angel\\Desktop\\S1DA\\Four\\analysis\\230427 - 4 - Execute\n",
      "20221105-07-34-23-AccelerationIn.csv\n",
      "['C:\\\\Users\\\\angel\\\\Desktop\\\\S1DA\\\\Four\\\\analysis\\\\20221105-07-20-51-AccelerationIn.csv', 'C:\\\\Users\\\\angel\\\\Desktop\\\\S1DA\\\\Four\\\\analysis\\\\20221105-07-27-57-AccelerationIn.csv', 'C:\\\\Users\\\\angel\\\\Desktop\\\\S1DA\\\\Four\\\\analysis\\\\20221105-07-30-57-AccelerationIn.csv', 'C:\\\\Users\\\\angel\\\\Desktop\\\\S1DA\\\\Four\\\\analysis\\\\20221105-07-34-23-AccelerationIn.csv']\n"
     ]
    }
   ],
   "source": [
    "# Get csvs into Dataframe\n",
    "import pandas as pd\n",
    "item_dir = r\"C:\\Users\\angel\\Desktop\\S1DA\\Four\\analysis\"\n",
    "output_dir = r\"C:\\Users\\angel\\Desktop\\S1DA\\Four\\analysis\"\n",
    "dfs = []\n",
    "file_output_paths =[]\n",
    "\n",
    "#Get all files from separated folders. \n",
    "for item in os.listdir(item_dir):\n",
    "    #print(item)\n",
    "    new_path = item_dir + \"\\\\\" + item\n",
    "    print(new_path)\n",
    "    for i in os.listdir(new_path):\n",
    "        print(i)        \n",
    "        new_file_path = new_path + \"\\\\\" + i\n",
    "        file_output_path = output_dir + \"\\\\\" + i\n",
    "        file_output_paths.append(file_output_path)\n",
    "        df = pd.read_csv(new_file_path)\n",
    "        \n",
    "        dfs.append(df)\n",
    "#print(dfs)\n",
    "print(file_output_paths)\n",
    "        #for case in df[\"Case\"]:\n",
    "            #if case >= 10:\n",
    "                #print(case)"
   ]
  },
  {
   "cell_type": "code",
   "execution_count": 34,
   "id": "5d299fc6-d7c5-422b-9d66-5e2ec2b95f85",
   "metadata": {},
   "outputs": [],
   "source": [
    "# Extract data from csv\n",
    "for i, filepath in enumerate(file_output_paths):\n",
    "    df = dfs[i]\n",
    "    df = df[df[\"Case\"] < 10]\n",
    "    df.to_csv(filepath, index=False)"
   ]
  },
  {
   "cell_type": "code",
   "execution_count": 47,
   "id": "0c2eebec-9ab8-4c1d-9eda-08bfa84cb9b7",
   "metadata": {},
   "outputs": [],
   "source": [
    "file_path = r\"C:\\Users\\angel\\Desktop\\S1DA\\Four\\analysis\"\n",
    "dfs = []\n",
    "for file in os.listdir(file_path):\n",
    "    new_pths = os.path.join(file_path, file)\n",
    "    for file in os.listdir(new_pths):\n",
    "        new_pths = os.path.join(new_pths, file)\n",
    "        df = pd.read_csv(new_pths)\n",
    "        dfs.append(df)"
   ]
  },
  {
   "cell_type": "code",
   "execution_count": 76,
   "id": "01803545-2f46-489e-b8b5-56f8dd9b795c",
   "metadata": {},
   "outputs": [
    {
     "name": "stdout",
     "output_type": "stream",
     "text": [
      "-6.595331044102023\n"
     ]
    }
   ],
   "source": [
    "import statistics\n",
    "mean_list = []\n",
    "for df in dfs:\n",
    "    acce = df[\"Acceleration\"]\n",
    "    acce_below_zero = acce[acce < -0.5841011435740535]\n",
    "    acce_mean = acce_below_zero.mean()\n",
    "    mean_list.append(acce_mean)\n",
    "\n",
    "average = statistics.mean(mean_list)\n"
   ]
  },
  {
   "cell_type": "code",
   "execution_count": null,
   "id": "79a842ad-3689-44db-9b3d-0bae70c5b7de",
   "metadata": {},
   "outputs": [],
   "source": []
  }
 ],
 "metadata": {
  "kernelspec": {
   "display_name": "Python 3 (ipykernel)",
   "language": "python",
   "name": "python3"
  },
  "language_info": {
   "codemirror_mode": {
    "name": "ipython",
    "version": 3
   },
   "file_extension": ".py",
   "mimetype": "text/x-python",
   "name": "python",
   "nbconvert_exporter": "python",
   "pygments_lexer": "ipython3",
   "version": "3.10.9"
  }
 },
 "nbformat": 4,
 "nbformat_minor": 5
}
