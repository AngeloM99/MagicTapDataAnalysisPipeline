{
 "cells": [
  {
   "cell_type": "code",
   "execution_count": 31,
   "id": "07f9d1a5-db55-422e-81fe-b11db3684343",
   "metadata": {},
   "outputs": [],
   "source": [
    "import os\n",
    "import pandas as pd"
   ]
  },
  {
   "cell_type": "code",
   "execution_count": 95,
   "id": "361ab23c-01c5-4946-ba8b-f697f71ce845",
   "metadata": {},
   "outputs": [
    {
     "name": "stdout",
     "output_type": "stream",
     "text": [
      "C:\\Users\\angel\\Desktop\\S1DA\\Separated - Backtrace - 230422 - study1\\Cancel\\230426 - 1 - Cancel\\020221105-06-53-56-AccelerationIn.csv\n",
      "C:\\Users\\angel\\Desktop\\S1DA\\Separated - Backtrace - 230422 - study1\\Cancel\\230426 - 1 - Cancel\\020221105-06-53-56-VelocityIn.csv\n",
      "C:\\Users\\angel\\Desktop\\S1DA\\Separated - Backtrace - 230422 - study1\\Cancel\\230426 - 10 - Cancel\\020230422-11-28-31-AccelerationIn.csv\n",
      "C:\\Users\\angel\\Desktop\\S1DA\\Separated - Backtrace - 230422 - study1\\Cancel\\230426 - 10 - Cancel\\020230422-11-28-31-VelocityIn.csv\n",
      "C:\\Users\\angel\\Desktop\\S1DA\\Separated - Backtrace - 230422 - study1\\Cancel\\230426 - 2 - Cancel\\020221105-06-59-41-AccelerationIn.csv\n",
      "C:\\Users\\angel\\Desktop\\S1DA\\Separated - Backtrace - 230422 - study1\\Cancel\\230426 - 2 - Cancel\\020221105-06-59-41-VelocityIn.csv\n",
      "C:\\Users\\angel\\Desktop\\S1DA\\Separated - Backtrace - 230422 - study1\\Cancel\\230426 - 3 - Cancel\\020221105-07-04-37-AccelerationIn.csv\n",
      "C:\\Users\\angel\\Desktop\\S1DA\\Separated - Backtrace - 230422 - study1\\Cancel\\230426 - 3 - Cancel\\020221105-07-04-37-VelocityIn.csv\n",
      "C:\\Users\\angel\\Desktop\\S1DA\\Separated - Backtrace - 230422 - study1\\Cancel\\230426 - 4 - Cancel\\020221105-07-11-48-AccelerationIn.csv\n",
      "C:\\Users\\angel\\Desktop\\S1DA\\Separated - Backtrace - 230422 - study1\\Cancel\\230426 - 4 - Cancel\\020221105-07-11-48-VelocityIn.csv\n",
      "C:\\Users\\angel\\Desktop\\S1DA\\Separated - Backtrace - 230422 - study1\\Cancel\\230426 - 5 - Cancel\\020221105-07-15-12-AccelerationIn.csv\n",
      "C:\\Users\\angel\\Desktop\\S1DA\\Separated - Backtrace - 230422 - study1\\Cancel\\230426 - 5 - Cancel\\020221105-07-15-12-VelocityIn.csv\n",
      "C:\\Users\\angel\\Desktop\\S1DA\\Separated - Backtrace - 230422 - study1\\Cancel\\230426 - 6 - Cancel\\020221105-07-20-51-AccelerationIn.csv\n",
      "C:\\Users\\angel\\Desktop\\S1DA\\Separated - Backtrace - 230422 - study1\\Cancel\\230426 - 6 - Cancel\\020221105-07-20-51-VelocityIn.csv\n",
      "C:\\Users\\angel\\Desktop\\S1DA\\Separated - Backtrace - 230422 - study1\\Cancel\\230426 - 7 - Cancel\\020221105-07-27-57-AccelerationIn.csv\n",
      "C:\\Users\\angel\\Desktop\\S1DA\\Separated - Backtrace - 230422 - study1\\Cancel\\230426 - 7 - Cancel\\020221105-07-27-57-VelocityIn.csv\n",
      "C:\\Users\\angel\\Desktop\\S1DA\\Separated - Backtrace - 230422 - study1\\Cancel\\230426 - 8 - Cancel\\020221105-07-30-57-AccelerationIn.csv\n",
      "C:\\Users\\angel\\Desktop\\S1DA\\Separated - Backtrace - 230422 - study1\\Cancel\\230426 - 8 - Cancel\\020221105-07-30-57-VelocityIn.csv\n",
      "C:\\Users\\angel\\Desktop\\S1DA\\Separated - Backtrace - 230422 - study1\\Cancel\\230426 - 9 - Cancel\\020221105-07-34-23-AccelerationIn.csv\n",
      "C:\\Users\\angel\\Desktop\\S1DA\\Separated - Backtrace - 230422 - study1\\Cancel\\230426 - 9 - Cancel\\020221105-07-34-23-VelocityIn.csv\n"
     ]
    }
   ],
   "source": [
    "path = r\"C:\\Users\\angel\\Desktop\\S1DA\\Separated - Backtrace - 230422 - study1\\Cancel\"\n",
    "\n",
    "dfs =[]\n",
    "file_output_paths =[]\n",
    "\n",
    "for item in os.listdir(path):\n",
    "    child_folder_path = path + \"\\\\\" + item\n",
    "    #print(child_folder_path)\n",
    "    for i in os.listdir(child_folder_path):\n",
    "        csv_path = child_folder_path + \"\\\\\" + i\n",
    "        file_output_path = child_folder_path + \"\\\\0\" + i\n",
    "        print(file_output_path)\n",
    "        file_output_paths.append(file_output_path)\n",
    "        df = pd.read_csv(csv_path)\n",
    "        dfs.append(df)"
   ]
  },
  {
   "cell_type": "code",
   "execution_count": 96,
   "id": "598a9c3f-3569-482b-a70a-0fbf2fcbe5ae",
   "metadata": {},
   "outputs": [],
   "source": [
    "# Extract data from csv\n",
    "for i, filepath in enumerate(file_output_paths):\n",
    "    df = dfs[i]\n",
    "    df = df[df[\"Case\"] > 10]\n",
    "    df.to_csv(filepath, index=False)"
   ]
  },
  {
   "cell_type": "code",
   "execution_count": 94,
   "id": "2c7b08ca-8744-49d5-bc27-247017004be0",
   "metadata": {},
   "outputs": [
    {
     "name": "stdout",
     "output_type": "stream",
     "text": [
      "C:\\Users\\angel\\Desktop\\S1DA\\Separated - Backtrace - 230422 - study1\\Cancel\\230426 - 1 - Cancel\\0020221105-06-53-56-AccelerationIn.csv\n"
     ]
    },
    {
     "ename": "TypeError",
     "evalue": "rename() missing required argument 'dst' (pos 2)",
     "output_type": "error",
     "traceback": [
      "\u001b[1;31m---------------------------------------------------------------------------\u001b[0m",
      "\u001b[1;31mTypeError\u001b[0m                                 Traceback (most recent call last)",
      "Cell \u001b[1;32mIn[94], line 9\u001b[0m\n\u001b[0;32m      7\u001b[0m \u001b[38;5;28;01mif\u001b[39;00m csv_path\u001b[38;5;241m.\u001b[39msplit(\u001b[38;5;124m\"\u001b[39m\u001b[38;5;130;01m\\\\\u001b[39;00m\u001b[38;5;124m\"\u001b[39m)[\u001b[38;5;241m8\u001b[39m][\u001b[38;5;241m0\u001b[39m] \u001b[38;5;241m==\u001b[39m \u001b[38;5;124m\"\u001b[39m\u001b[38;5;124m0\u001b[39m\u001b[38;5;124m\"\u001b[39m:\n\u001b[0;32m      8\u001b[0m     \u001b[38;5;28mprint\u001b[39m(csv_path)\n\u001b[1;32m----> 9\u001b[0m     \u001b[43mos\u001b[49m\u001b[38;5;241;43m.\u001b[39;49m\u001b[43mrename\u001b[49m\u001b[43m(\u001b[49m\u001b[43mcsv_path\u001b[49m\u001b[43m)\u001b[49m\n",
      "\u001b[1;31mTypeError\u001b[0m: rename() missing required argument 'dst' (pos 2)"
     ]
    }
   ],
   "source": [
    "for item in os.listdir(path):\n",
    "    child_folder_path = path + \"\\\\\" + item\n",
    "    #print(child_folder_path)\n",
    "    for n in os.listdir(child_folder_path):\n",
    "        csv_path = child_folder_path + \"\\\\0\" + n\n",
    "        #print(csv_path)\n",
    "        if csv_path.split(\"\\\\\")[8][0] == \"0\":\n",
    "            print(csv_path)\n",
    "            os.rename(csv_path)\n"
   ]
  },
  {
   "cell_type": "code",
   "execution_count": 130,
   "id": "f6100c16-e977-42ff-80cb-c993e48a7887",
   "metadata": {},
   "outputs": [
    {
     "name": "stdout",
     "output_type": "stream",
     "text": [
      "C:\\Users\\angel\\Desktop\\S1DA\\Separated - Backtrace - 230422 - study1\\Cancel\\230426 - 1 - Cancel\\020221105-06-53-56-AccelerationIn.csv\n",
      "C:\\Users\\angel\\Desktop\\S1DA\\Separated - Backtrace - 230422 - study1\\Cancel\\230426 - 10 - Cancel\\020230422-11-28-31-AccelerationIn.csv\n",
      "C:\\Users\\angel\\Desktop\\S1DA\\Separated - Backtrace - 230422 - study1\\Cancel\\230426 - 2 - Cancel\\020221105-06-59-41-AccelerationIn.csv\n",
      "C:\\Users\\angel\\Desktop\\S1DA\\Separated - Backtrace - 230422 - study1\\Cancel\\230426 - 3 - Cancel\\020221105-07-04-37-AccelerationIn.csv\n",
      "C:\\Users\\angel\\Desktop\\S1DA\\Separated - Backtrace - 230422 - study1\\Cancel\\230426 - 4 - Cancel\\020221105-07-11-48-AccelerationIn.csv\n",
      "C:\\Users\\angel\\Desktop\\S1DA\\Separated - Backtrace - 230422 - study1\\Cancel\\230426 - 5 - Cancel\\020221105-07-15-12-AccelerationIn.csv\n",
      "C:\\Users\\angel\\Desktop\\S1DA\\Separated - Backtrace - 230422 - study1\\Cancel\\230426 - 6 - Cancel\\020221105-07-20-51-AccelerationIn.csv\n",
      "C:\\Users\\angel\\Desktop\\S1DA\\Separated - Backtrace - 230422 - study1\\Cancel\\230426 - 7 - Cancel\\020221105-07-27-57-AccelerationIn.csv\n",
      "C:\\Users\\angel\\Desktop\\S1DA\\Separated - Backtrace - 230422 - study1\\Cancel\\230426 - 8 - Cancel\\020221105-07-30-57-AccelerationIn.csv\n",
      "C:\\Users\\angel\\Desktop\\S1DA\\Separated - Backtrace - 230422 - study1\\Cancel\\230426 - 9 - Cancel\\020221105-07-34-23-AccelerationIn.csv\n"
     ]
    }
   ],
   "source": [
    "csv_paths = []\n",
    "for item in os.listdir(path):\n",
    "    child_folder_path = path + \"\\\\\" + item\n",
    "    #print(child_folder_path)\n",
    "    for n in os.listdir(child_folder_path):\n",
    "        csv_path = child_folder_path + \"\\\\\" + n\n",
    "        \n",
    "        if csv_path.split(\"\\\\\")[8][0] == \"0\" and csv_path.endswith(\"AccelerationIn.csv\"):\n",
    "            print(csv_path)\n",
    "            csv_paths.append(csv_path)\n",
    "            \n",
    "            "
   ]
  },
  {
   "cell_type": "code",
   "execution_count": 159,
   "id": "3cb0aca0-dd34-4624-ad80-35362ba17d93",
   "metadata": {},
   "outputs": [],
   "source": [
    "dfs = []\n",
    "\n",
    "for i in csv_paths:\n",
    "    df = pd.read_csv(i)\n",
    "    df_enter_time=df[[\"Case\",\"EnterTime\"]]\n",
    "    df_enter_time= df_enter_time['Case'].value_counts().sort_index()\n",
    "    \n",
    "    dfs.append(df_enter_time)\n",
    "    \n",
    "new_df = pd.concat(dfs)\n",
    "new_df.to_csv(r\"C:\\Users\\angel\\Desktop\\S1DA\\Separated - Backtrace - 230422 - study1\\Execute_only - out\\12313123131231.csv\")\n"
   ]
  },
  {
   "cell_type": "code",
   "execution_count": 162,
   "id": "45a31657-08da-4655-8145-a00cf2cc029e",
   "metadata": {},
   "outputs": [],
   "source": [
    "# Input parent directory here\n",
    "\n",
    "parent_dir =r\"C:\\Users\\angel\\Desktop\\S1DA\\Separated - Backtrace - 230422 - study1\\Cancel\""
   ]
  },
  {
   "cell_type": "markdown",
   "id": "b941cfbb-bf36-4c2a-8f71-62c3100b7165",
   "metadata": {},
   "source": [
    "Before using this, make sure you arrange the directory in this order --> Parent_dir --> 220121(Analysing Date) - 1 (from 1-n)- Execute (Execute Or Cancel)"
   ]
  },
  {
   "cell_type": "code",
   "execution_count": 163,
   "id": "6b7a843b-729e-493a-ab56-a66cda05a2a9",
   "metadata": {},
   "outputs": [],
   "source": [
    "def load_csv (parent_dir):\n",
    "    for item in os.listdir(parent_dir):\n",
    "        child_folder_path = parent_dir + \"\\\\\" + item\n",
    "        for n in os.listdir(child_folder_path):\n",
    "            print(n)"
   ]
  },
  {
   "cell_type": "code",
   "execution_count": 164,
   "id": "6e973cf4-6aa6-4b23-b39e-f6cfbd33dc84",
   "metadata": {},
   "outputs": [
    {
     "name": "stdout",
     "output_type": "stream",
     "text": [
      "020221105-06-53-56-AccelerationIn.csv\n",
      "020221105-06-53-56-VelocityIn.csv\n",
      "20221105-06-53-56-AccelerationIn.csv\n",
      "20221105-06-53-56-VelocityIn.csv\n",
      "020230422-11-28-31-AccelerationIn.csv\n",
      "020230422-11-28-31-VelocityIn.csv\n",
      "20230422-11-28-31-AccelerationIn.csv\n",
      "20230422-11-28-31-VelocityIn.csv\n",
      "020221105-06-59-41-AccelerationIn.csv\n",
      "020221105-06-59-41-VelocityIn.csv\n",
      "20221105-06-59-41-AccelerationIn.csv\n",
      "20221105-06-59-41-VelocityIn.csv\n",
      "020221105-07-04-37-AccelerationIn.csv\n",
      "020221105-07-04-37-VelocityIn.csv\n",
      "20221105-07-04-37-AccelerationIn.csv\n",
      "20221105-07-04-37-VelocityIn.csv\n",
      "020221105-07-11-48-AccelerationIn.csv\n",
      "020221105-07-11-48-VelocityIn.csv\n",
      "20221105-07-11-48-AccelerationIn.csv\n",
      "20221105-07-11-48-VelocityIn.csv\n",
      "020221105-07-15-12-AccelerationIn.csv\n",
      "020221105-07-15-12-VelocityIn.csv\n",
      "20221105-07-15-12-AccelerationIn.csv\n",
      "20221105-07-15-12-VelocityIn.csv\n",
      "020221105-07-20-51-AccelerationIn.csv\n",
      "020221105-07-20-51-VelocityIn.csv\n",
      "20221105-07-20-51-AccelerationIn.csv\n",
      "20221105-07-20-51-VelocityIn.csv\n",
      "020221105-07-27-57-AccelerationIn.csv\n",
      "020221105-07-27-57-VelocityIn.csv\n",
      "20221105-07-27-57-AccelerationIn.csv\n",
      "20221105-07-27-57-VelocityIn.csv\n",
      "020221105-07-30-57-AccelerationIn.csv\n",
      "020221105-07-30-57-VelocityIn.csv\n",
      "20221105-07-30-57-AccelerationIn.csv\n",
      "20221105-07-30-57-VelocityIn.csv\n",
      "020221105-07-34-23-AccelerationIn.csv\n",
      "020221105-07-34-23-VelocityIn.csv\n",
      "20221105-07-34-23-AccelerationIn.csv\n",
      "20221105-07-34-23-VelocityIn.csv\n"
     ]
    }
   ],
   "source": [
    "load_csv(parent_dir)"
   ]
  },
  {
   "cell_type": "code",
   "execution_count": null,
   "id": "a0dc0a61-e4cb-4d32-b3aa-fc14f959b1aa",
   "metadata": {},
   "outputs": [],
   "source": []
  },
  {
   "cell_type": "code",
   "execution_count": null,
   "id": "ce1a66b4-f631-4997-af9a-5824d568cb44",
   "metadata": {},
   "outputs": [],
   "source": []
  }
 ],
 "metadata": {
  "kernelspec": {
   "display_name": "Python 3 (ipykernel)",
   "language": "python",
   "name": "python3"
  },
  "language_info": {
   "codemirror_mode": {
    "name": "ipython",
    "version": 3
   },
   "file_extension": ".py",
   "mimetype": "text/x-python",
   "name": "python",
   "nbconvert_exporter": "python",
   "pygments_lexer": "ipython3",
   "version": "3.10.9"
  }
 },
 "nbformat": 4,
 "nbformat_minor": 5
}
