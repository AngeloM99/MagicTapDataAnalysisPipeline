{
 "cells": [
  {
   "cell_type": "raw",
   "id": "0d1d8e38-6f3e-4c59-a987-6084d79a29a3",
   "metadata": {},
   "source": [
    "Result Cancel Acceleration:\n",
    "\n",
    "Acceleration for Button Number 4's condition B: -20.082100719895966\n",
    "Acceleration distance: -3.7293978582833645\n",
    "The Acceleration for the seven models:\n",
    "-8.893907145045873\n",
    "-12.623305003329236\n",
    "-16.352702861612602\n",
    "-20.082100719895966\n",
    "-23.81149857817933\n",
    "-27.540896436462695\n",
    "-31.27029429474606"
   ]
  },
  {
   "cell_type": "raw",
   "id": "8d070a33-895b-46c5-9931-c2ad439f1324",
   "metadata": {},
   "source": [
    "Velocity for Button Number 4's condition A: 0.5062329337137572\n",
    "Velocity for condition C: 0.8062087410859728\n",
    "Velocity distance: 0.07541025730609403\n",
    "The Velocity of condition A for the seven models:\n",
    "0.2800021617954751\n",
    "0.3554124191015692\n",
    "0.4308226764076632\n",
    "0.5062329337137572\n",
    "0.5816431910198513\n",
    "0.6570534483259453\n",
    "0.7324637056320393"
   ]
  },
  {
   "cell_type": "code",
   "execution_count": 29,
   "id": "78546265-ff8e-44c2-a27a-a27eefc87be8",
   "metadata": {},
   "outputs": [],
   "source": [
    "import pandas as pd\n",
    "import statistics\n",
    "path = r\"C:\\Users\\angel\\Desktop\\S1DA\\Separated - Backtrace - 230422 - study1\\Execute_only - out\\221212 - Acce_by_case.csv\"\n",
    "\n",
    "df = pd.read_csv(path)\n",
    "min_value = df[\"Min\"]\n",
    "mean_value = df[\"Mean\"]\n",
    "max_value = df[\"Max\"]\n",
    "\n",
    "min_mean = statistics.mean(min_value)\n",
    "mean_mean = statistics.mean(mean_value)\n",
    "max_mean = statistics.mean(max_value)\n",
    "\n",
    "d1 = (mean_mean - min_mean)\n",
    "d2 = (max_mean - mean_mean)\n",
    "\n"
   ]
  },
  {
   "cell_type": "code",
   "execution_count": 30,
   "id": "6db7e7da-6f82-44c8-9b34-712c46d92945",
   "metadata": {},
   "outputs": [
    {
     "data": {
      "text/plain": [
       "0     -3.664041\n",
       "1    -10.654990\n",
       "2    -17.043350\n",
       "3    -12.482720\n",
       "4    -19.760480\n",
       "        ...    \n",
       "95   -35.284730\n",
       "96   -15.897360\n",
       "97   -15.871080\n",
       "98   -23.914110\n",
       "99   -18.674550\n",
       "Name: Min, Length: 100, dtype: float64"
      ]
     },
     "execution_count": 30,
     "metadata": {},
     "output_type": "execute_result"
    }
   ],
   "source": []
  },
  {
   "cell_type": "code",
   "execution_count": null,
   "id": "6d794aaa-5b6f-41d4-b558-0fc9177fb679",
   "metadata": {},
   "outputs": [],
   "source": []
  }
 ],
 "metadata": {
  "kernelspec": {
   "display_name": "Python 3 (ipykernel)",
   "language": "python",
   "name": "python3"
  },
  "language_info": {
   "codemirror_mode": {
    "name": "ipython",
    "version": 3
   },
   "file_extension": ".py",
   "mimetype": "text/x-python",
   "name": "python",
   "nbconvert_exporter": "python",
   "pygments_lexer": "ipython3",
   "version": "3.10.9"
  }
 },
 "nbformat": 4,
 "nbformat_minor": 5
}
